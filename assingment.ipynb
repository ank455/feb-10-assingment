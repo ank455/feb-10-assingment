{
 "cells": [
  {
   "cell_type": "code",
   "execution_count": null,
   "id": "aa10a9eb-50ff-48dd-bf47-17268557b22c",
   "metadata": {},
   "outputs": [],
   "source": [
    "# Ans 1 \n",
    "\n",
    "open() function is used to open file.\n",
    "\n",
    "r - open file in read mode \n",
    "w - open text file in write mode\n",
    "r++ - open file in both read and write mode"
   ]
  },
  {
   "cell_type": "code",
   "execution_count": null,
   "id": "53103da9-f9bf-48ef-a4bb-66f82971ab90",
   "metadata": {},
   "outputs": [],
   "source": [
    "# Ans 2\n",
    "\n",
    "close() function is used to close a file.\n",
    "\n",
    "it is important to close a file due to change made in file will not show untill it's close"
   ]
  },
  {
   "cell_type": "code",
   "execution_count": 1,
   "id": "4909f5d9-438e-4854-a143-dec07932f2d3",
   "metadata": {},
   "outputs": [],
   "source": [
    "# Ans 3\n",
    "\n",
    "f = open(\"test.txt\" , \"w\")"
   ]
  },
  {
   "cell_type": "code",
   "execution_count": 3,
   "id": "b5264140-499b-4404-ab5e-8d2e2dec5440",
   "metadata": {},
   "outputs": [
    {
     "data": {
      "text/plain": [
       "33"
      ]
     },
     "execution_count": 3,
     "metadata": {},
     "output_type": "execute_result"
    }
   ],
   "source": [
    "f.write(\"i want to become a data scientist\")"
   ]
  },
  {
   "cell_type": "code",
   "execution_count": 4,
   "id": "a70ff26f-7e90-482d-a33f-79c38f4b5d26",
   "metadata": {},
   "outputs": [],
   "source": [
    "f.close()"
   ]
  },
  {
   "cell_type": "code",
   "execution_count": 5,
   "id": "42f9184c-dbaf-41e6-8c79-38d8223d25c5",
   "metadata": {},
   "outputs": [],
   "source": [
    "ank = open(\"test.txt\" , \"r\")"
   ]
  },
  {
   "cell_type": "code",
   "execution_count": 7,
   "id": "e8248ce7-358b-4f17-9205-ceac312d6b2c",
   "metadata": {},
   "outputs": [
    {
     "data": {
      "text/plain": [
       "'i want to become a data scientist'"
      ]
     },
     "execution_count": 7,
     "metadata": {},
     "output_type": "execute_result"
    }
   ],
   "source": [
    "ank.read()"
   ]
  },
  {
   "cell_type": "code",
   "execution_count": null,
   "id": "a5ae752b-c9b4-4d26-b4ab-c12d83733ece",
   "metadata": {},
   "outputs": [],
   "source": [
    "# Ans 4\n",
    "read() - This method returns the specified number of bytes from the file\n",
    "\n",
    "readline() - This method reads only one complete line from given file\n",
    "\n",
    "readlines() - This method return a list containing each line in the file as a list item"
   ]
  },
  {
   "cell_type": "code",
   "execution_count": 9,
   "id": "b3eca545-8e9a-417e-a1e4-2a94462fc500",
   "metadata": {},
   "outputs": [],
   "source": [
    "# example of read() , readline() , readlines()\n",
    "\n",
    "a = open(\"ankit.txt\" , \"w\")"
   ]
  },
  {
   "cell_type": "code",
   "execution_count": 11,
   "id": "11a3eede-506b-430f-92e7-341a5e159ea5",
   "metadata": {},
   "outputs": [
    {
     "data": {
      "text/plain": [
       "439"
      ]
     },
     "execution_count": 11,
     "metadata": {},
     "output_type": "execute_result"
    }
   ],
   "source": [
    "a.write(\"sanatana dharma, in Hinduism, term used to denote the “eternal” or absolute set of duties or religiously ordained practices incumbent upon all Hindus, regardless of class, caste, or sect. Different texts give different lists of the duties, but in general sanatana dharma consists of virtues such as honesty, refraining from injuring living beings, purity, goodwill, mercy, patience, forbearance, self-restraint, generosity, and asceticism.\")"
   ]
  },
  {
   "cell_type": "code",
   "execution_count": 12,
   "id": "08c255be-dda4-4feb-96a9-9149764c5f9e",
   "metadata": {},
   "outputs": [],
   "source": [
    "a.close()"
   ]
  },
  {
   "cell_type": "code",
   "execution_count": 13,
   "id": "5a123525-4f80-4fa7-95d3-9ca89074df71",
   "metadata": {},
   "outputs": [],
   "source": [
    "kum = open(\"ankit.txt\" , \"r\")"
   ]
  },
  {
   "cell_type": "code",
   "execution_count": 14,
   "id": "21b34807-25b6-4cdb-a2a6-12ec3a3f0848",
   "metadata": {},
   "outputs": [
    {
     "data": {
      "text/plain": [
       "'sanatana dharma, in Hinduism, term used to denote the “eternal” or absolute set of duties or religiously ordained practices incumbent upon all Hindus, regardless of class, caste, or sect. Different texts give different lists of the duties, but in general sanatana dharma consists of virtues such as honesty, refraining from injuring living beings, purity, goodwill, mercy, patience, forbearance, self-restraint, generosity, and asceticism.'"
      ]
     },
     "execution_count": 14,
     "metadata": {},
     "output_type": "execute_result"
    }
   ],
   "source": [
    "# example of read()\n",
    "\n",
    "kum.read()"
   ]
  },
  {
   "cell_type": "code",
   "execution_count": 15,
   "id": "0915742c-e362-4df0-ac87-8e964eb78853",
   "metadata": {},
   "outputs": [
    {
     "data": {
      "text/plain": [
       "''"
      ]
     },
     "execution_count": 15,
     "metadata": {},
     "output_type": "execute_result"
    }
   ],
   "source": [
    "# example of readline()\n",
    "\n",
    "kum.readline()"
   ]
  },
  {
   "cell_type": "code",
   "execution_count": 30,
   "id": "c67aad69-4aff-4a34-b232-47418aee167e",
   "metadata": {},
   "outputs": [
    {
     "data": {
      "text/plain": [
       "100"
      ]
     },
     "execution_count": 30,
     "metadata": {},
     "output_type": "execute_result"
    }
   ],
   "source": [
    "kum.seek(100)"
   ]
  },
  {
   "cell_type": "code",
   "execution_count": 31,
   "id": "44c0fdfc-9b9c-4e3e-8ab7-5c490652eae3",
   "metadata": {},
   "outputs": [
    {
     "data": {
      "text/plain": [
       "'igiously ordained practices incumbent upon all Hindus, regardless of class, caste, or sect. Different texts give different lists of the duties, but in general sanatana dharma consists of virtues such as honesty, refraining from injuring living beings, purity, goodwill, mercy, patience, forbearance, self-restraint, generosity, and asceticism.'"
      ]
     },
     "execution_count": 31,
     "metadata": {},
     "output_type": "execute_result"
    }
   ],
   "source": [
    "kum.readline()"
   ]
  },
  {
   "cell_type": "code",
   "execution_count": 32,
   "id": "87d4b980-2c95-4cdb-ad15-42fd2a2f4f4e",
   "metadata": {},
   "outputs": [
    {
     "data": {
      "text/plain": [
       "0"
      ]
     },
     "execution_count": 32,
     "metadata": {},
     "output_type": "execute_result"
    }
   ],
   "source": [
    "# example of readlines\n",
    "\n",
    "kum.seek(0)"
   ]
  },
  {
   "cell_type": "code",
   "execution_count": 33,
   "id": "35f083b7-b55c-4e8e-942e-32a2a7e35a62",
   "metadata": {},
   "outputs": [
    {
     "data": {
      "text/plain": [
       "['sanatana dharma, in Hinduism, term used to denote the “eternal” or absolute set of duties or religiously ordained practices incumbent upon all Hindus, regardless of class, caste, or sect. Different texts give different lists of the duties, but in general sanatana dharma consists of virtues such as honesty, refraining from injuring living beings, purity, goodwill, mercy, patience, forbearance, self-restraint, generosity, and asceticism.']"
      ]
     },
     "execution_count": 33,
     "metadata": {},
     "output_type": "execute_result"
    }
   ],
   "source": [
    "kum.readlines()"
   ]
  },
  {
   "cell_type": "code",
   "execution_count": null,
   "id": "d70e73ef-fc5d-4a81-a391-f267bf8dc84b",
   "metadata": {},
   "outputs": [],
   "source": [
    "# Ans 5\n",
    "\n",
    "The with statement work with open() to open a file.\n",
    "Advantage of using with statement with open() is  we dont need to close file at the end it will automatically close file."
   ]
  },
  {
   "cell_type": "code",
   "execution_count": null,
   "id": "626ae135-5e5f-46ab-ab4f-a903f90a7593",
   "metadata": {},
   "outputs": [],
   "source": [
    "# Ans 6\n",
    "Write() - This method writes a specified text to the files.\n",
    "\n",
    "writelines() - This method writes the item of a list to the file.\n"
   ]
  },
  {
   "cell_type": "code",
   "execution_count": 34,
   "id": "83f7eaf9-6bf4-4091-a9e8-1440f165e6aa",
   "metadata": {},
   "outputs": [
    {
     "name": "stdout",
     "output_type": "stream",
     "text": [
      "Alakh Sir\n",
      "Pankaj Sir\n",
      "Sudhanshu Sir\n"
     ]
    }
   ],
   "source": [
    "# Example of writelines()\n",
    "\n",
    "f = open(\"kumar.txt\", \"a\")\n",
    "f.writelines([\"Alakh Sir\", \"\\nPankaj Sir\" , \"\\nSudhanshu Sir\"])\n",
    "f.close()\n",
    "\n",
    "f = open(\"kumar.txt\", \"r\")\n",
    "print(f.read())\n",
    "\n"
   ]
  },
  {
   "cell_type": "code",
   "execution_count": null,
   "id": "b5a7f0ae-74ea-47cb-8093-e5cd4278b604",
   "metadata": {},
   "outputs": [],
   "source": [
    "# Example of write()\n",
    "f = open(\"pwskills\")"
   ]
  }
 ],
 "metadata": {
  "kernelspec": {
   "display_name": "Python 3 (ipykernel)",
   "language": "python",
   "name": "python3"
  },
  "language_info": {
   "codemirror_mode": {
    "name": "ipython",
    "version": 3
   },
   "file_extension": ".py",
   "mimetype": "text/x-python",
   "name": "python",
   "nbconvert_exporter": "python",
   "pygments_lexer": "ipython3",
   "version": "3.10.8"
  }
 },
 "nbformat": 4,
 "nbformat_minor": 5
}
